{
 "cells": [
  {
   "cell_type": "markdown",
   "metadata": {},
   "source": [
    "# Deep learning with keras\n",
    "\n",
    "First we import all required packages. Keras will import tensorflow underwater and will act as a so to speak 'interface' of the tensorflow backend."
   ]
  },
  {
   "cell_type": "code",
   "execution_count": 1,
   "metadata": {},
   "outputs": [
    {
     "name": "stderr",
     "output_type": "stream",
     "text": [
      "Using TensorFlow backend.\n"
     ]
    }
   ],
   "source": [
    "import numpy as np\n",
    "import keras\n",
    "import random\n",
    "import rasterio\n",
    "import pandas as pd\n",
    "from keras.utils import np_utils\n",
    "import cv2\n",
    "import os"
   ]
  },
  {
   "cell_type": "markdown",
   "metadata": {},
   "source": [
    "This notebook contain three examples. A fully conntecte neuralnetwork, a convolutional neuralnetwork and a fully convolutional neuralnetwork.\n",
    "\n",
    "In eacht of thesere three cases we simply define a data generator, an architecture and a loss. After that we train the architecture using the generator with the respective loss.\n",
    "\n",
    "Lastly we validate the model on some unseen validation data."
   ]
  },
  {
   "cell_type": "markdown",
   "metadata": {},
   "source": [
    "## A fully connected neuralnetwork"
   ]
  },
  {
   "cell_type": "markdown",
   "metadata": {},
   "source": [
    "We fix some helpful parameters that we might want to the tune."
   ]
  },
  {
   "cell_type": "code",
   "execution_count": 5,
   "metadata": {},
   "outputs": [],
   "source": [
    "classes = 3\n",
    "epochs = 10\n",
    "lr = 0.0001\n",
    "split = 0.2"
   ]
  },
  {
   "cell_type": "markdown",
   "metadata": {},
   "source": [
    "First we read the full iris dataset. The first four columns describe properites of the flower, the last column tells us what kind of flower we are dealing with."
   ]
  },
  {
   "cell_type": "code",
   "execution_count": 3,
   "metadata": {},
   "outputs": [
    {
     "ename": "FileNotFoundError",
     "evalue": "File b'iris_data.txt' does not exist",
     "output_type": "error",
     "traceback": [
      "\u001b[0;31m---------------------------------------------------------------------------\u001b[0m",
      "\u001b[0;31mFileNotFoundError\u001b[0m                         Traceback (most recent call last)",
      "\u001b[0;32m<ipython-input-3-bdb4ee8ac786>\u001b[0m in \u001b[0;36m<module>\u001b[0;34m\u001b[0m\n\u001b[0;32m----> 1\u001b[0;31m \u001b[0mdata\u001b[0m \u001b[0;34m=\u001b[0m \u001b[0mpd\u001b[0m\u001b[0;34m.\u001b[0m\u001b[0mread_csv\u001b[0m\u001b[0;34m(\u001b[0m\u001b[0;34m'iris_data.txt'\u001b[0m\u001b[0;34m,\u001b[0m \u001b[0mheader\u001b[0m \u001b[0;34m=\u001b[0m \u001b[0;32mNone\u001b[0m\u001b[0;34m)\u001b[0m\u001b[0;34m\u001b[0m\u001b[0;34m\u001b[0m\u001b[0m\n\u001b[0m\u001b[1;32m      2\u001b[0m \u001b[0mdata\u001b[0m\u001b[0;34m.\u001b[0m\u001b[0mcolumns\u001b[0m \u001b[0;34m=\u001b[0m \u001b[0;34m[\u001b[0m\u001b[0;34m'prop1'\u001b[0m\u001b[0;34m,\u001b[0m \u001b[0;34m'prop2'\u001b[0m\u001b[0;34m,\u001b[0m \u001b[0;34m'prop3'\u001b[0m\u001b[0;34m,\u001b[0m \u001b[0;34m'prop4'\u001b[0m\u001b[0;34m,\u001b[0m \u001b[0;34m'type'\u001b[0m\u001b[0;34m]\u001b[0m\u001b[0;34m\u001b[0m\u001b[0;34m\u001b[0m\u001b[0m\n\u001b[1;32m      3\u001b[0m \u001b[0mtype_int\u001b[0m \u001b[0;34m=\u001b[0m \u001b[0;34m{\u001b[0m\u001b[0;34m'Iris-setosa'\u001b[0m\u001b[0;34m:\u001b[0m \u001b[0;36m0\u001b[0m\u001b[0;34m,\u001b[0m \u001b[0;34m'Iris-versicolor'\u001b[0m\u001b[0;34m:\u001b[0m \u001b[0;36m1\u001b[0m\u001b[0;34m,\u001b[0m \u001b[0;34m'Iris-virginica'\u001b[0m\u001b[0;34m:\u001b[0m \u001b[0;36m2\u001b[0m\u001b[0;34m}\u001b[0m\u001b[0;34m\u001b[0m\u001b[0;34m\u001b[0m\u001b[0m\n\u001b[1;32m      4\u001b[0m \u001b[0;34m\u001b[0m\u001b[0m\n\u001b[1;32m      5\u001b[0m \u001b[0;34m\u001b[0m\u001b[0m\n",
      "\u001b[0;32m~/.local/lib/python3.6/site-packages/pandas/io/parsers.py\u001b[0m in \u001b[0;36mparser_f\u001b[0;34m(filepath_or_buffer, sep, delimiter, header, names, index_col, usecols, squeeze, prefix, mangle_dupe_cols, dtype, engine, converters, true_values, false_values, skipinitialspace, skiprows, nrows, na_values, keep_default_na, na_filter, verbose, skip_blank_lines, parse_dates, infer_datetime_format, keep_date_col, date_parser, dayfirst, iterator, chunksize, compression, thousands, decimal, lineterminator, quotechar, quoting, escapechar, comment, encoding, dialect, tupleize_cols, error_bad_lines, warn_bad_lines, skipfooter, doublequote, delim_whitespace, low_memory, memory_map, float_precision)\u001b[0m\n\u001b[1;32m    676\u001b[0m                     skip_blank_lines=skip_blank_lines)\n\u001b[1;32m    677\u001b[0m \u001b[0;34m\u001b[0m\u001b[0m\n\u001b[0;32m--> 678\u001b[0;31m         \u001b[0;32mreturn\u001b[0m \u001b[0m_read\u001b[0m\u001b[0;34m(\u001b[0m\u001b[0mfilepath_or_buffer\u001b[0m\u001b[0;34m,\u001b[0m \u001b[0mkwds\u001b[0m\u001b[0;34m)\u001b[0m\u001b[0;34m\u001b[0m\u001b[0;34m\u001b[0m\u001b[0m\n\u001b[0m\u001b[1;32m    679\u001b[0m \u001b[0;34m\u001b[0m\u001b[0m\n\u001b[1;32m    680\u001b[0m     \u001b[0mparser_f\u001b[0m\u001b[0;34m.\u001b[0m\u001b[0m__name__\u001b[0m \u001b[0;34m=\u001b[0m \u001b[0mname\u001b[0m\u001b[0;34m\u001b[0m\u001b[0;34m\u001b[0m\u001b[0m\n",
      "\u001b[0;32m~/.local/lib/python3.6/site-packages/pandas/io/parsers.py\u001b[0m in \u001b[0;36m_read\u001b[0;34m(filepath_or_buffer, kwds)\u001b[0m\n\u001b[1;32m    438\u001b[0m \u001b[0;34m\u001b[0m\u001b[0m\n\u001b[1;32m    439\u001b[0m     \u001b[0;31m# Create the parser.\u001b[0m\u001b[0;34m\u001b[0m\u001b[0;34m\u001b[0m\u001b[0;34m\u001b[0m\u001b[0m\n\u001b[0;32m--> 440\u001b[0;31m     \u001b[0mparser\u001b[0m \u001b[0;34m=\u001b[0m \u001b[0mTextFileReader\u001b[0m\u001b[0;34m(\u001b[0m\u001b[0mfilepath_or_buffer\u001b[0m\u001b[0;34m,\u001b[0m \u001b[0;34m**\u001b[0m\u001b[0mkwds\u001b[0m\u001b[0;34m)\u001b[0m\u001b[0;34m\u001b[0m\u001b[0;34m\u001b[0m\u001b[0m\n\u001b[0m\u001b[1;32m    441\u001b[0m \u001b[0;34m\u001b[0m\u001b[0m\n\u001b[1;32m    442\u001b[0m     \u001b[0;32mif\u001b[0m \u001b[0mchunksize\u001b[0m \u001b[0;32mor\u001b[0m \u001b[0miterator\u001b[0m\u001b[0;34m:\u001b[0m\u001b[0;34m\u001b[0m\u001b[0;34m\u001b[0m\u001b[0m\n",
      "\u001b[0;32m~/.local/lib/python3.6/site-packages/pandas/io/parsers.py\u001b[0m in \u001b[0;36m__init__\u001b[0;34m(self, f, engine, **kwds)\u001b[0m\n\u001b[1;32m    785\u001b[0m             \u001b[0mself\u001b[0m\u001b[0;34m.\u001b[0m\u001b[0moptions\u001b[0m\u001b[0;34m[\u001b[0m\u001b[0;34m'has_index_names'\u001b[0m\u001b[0;34m]\u001b[0m \u001b[0;34m=\u001b[0m \u001b[0mkwds\u001b[0m\u001b[0;34m[\u001b[0m\u001b[0;34m'has_index_names'\u001b[0m\u001b[0;34m]\u001b[0m\u001b[0;34m\u001b[0m\u001b[0;34m\u001b[0m\u001b[0m\n\u001b[1;32m    786\u001b[0m \u001b[0;34m\u001b[0m\u001b[0m\n\u001b[0;32m--> 787\u001b[0;31m         \u001b[0mself\u001b[0m\u001b[0;34m.\u001b[0m\u001b[0m_make_engine\u001b[0m\u001b[0;34m(\u001b[0m\u001b[0mself\u001b[0m\u001b[0;34m.\u001b[0m\u001b[0mengine\u001b[0m\u001b[0;34m)\u001b[0m\u001b[0;34m\u001b[0m\u001b[0;34m\u001b[0m\u001b[0m\n\u001b[0m\u001b[1;32m    788\u001b[0m \u001b[0;34m\u001b[0m\u001b[0m\n\u001b[1;32m    789\u001b[0m     \u001b[0;32mdef\u001b[0m \u001b[0mclose\u001b[0m\u001b[0;34m(\u001b[0m\u001b[0mself\u001b[0m\u001b[0;34m)\u001b[0m\u001b[0;34m:\u001b[0m\u001b[0;34m\u001b[0m\u001b[0;34m\u001b[0m\u001b[0m\n",
      "\u001b[0;32m~/.local/lib/python3.6/site-packages/pandas/io/parsers.py\u001b[0m in \u001b[0;36m_make_engine\u001b[0;34m(self, engine)\u001b[0m\n\u001b[1;32m   1012\u001b[0m     \u001b[0;32mdef\u001b[0m \u001b[0m_make_engine\u001b[0m\u001b[0;34m(\u001b[0m\u001b[0mself\u001b[0m\u001b[0;34m,\u001b[0m \u001b[0mengine\u001b[0m\u001b[0;34m=\u001b[0m\u001b[0;34m'c'\u001b[0m\u001b[0;34m)\u001b[0m\u001b[0;34m:\u001b[0m\u001b[0;34m\u001b[0m\u001b[0;34m\u001b[0m\u001b[0m\n\u001b[1;32m   1013\u001b[0m         \u001b[0;32mif\u001b[0m \u001b[0mengine\u001b[0m \u001b[0;34m==\u001b[0m \u001b[0;34m'c'\u001b[0m\u001b[0;34m:\u001b[0m\u001b[0;34m\u001b[0m\u001b[0;34m\u001b[0m\u001b[0m\n\u001b[0;32m-> 1014\u001b[0;31m             \u001b[0mself\u001b[0m\u001b[0;34m.\u001b[0m\u001b[0m_engine\u001b[0m \u001b[0;34m=\u001b[0m \u001b[0mCParserWrapper\u001b[0m\u001b[0;34m(\u001b[0m\u001b[0mself\u001b[0m\u001b[0;34m.\u001b[0m\u001b[0mf\u001b[0m\u001b[0;34m,\u001b[0m \u001b[0;34m**\u001b[0m\u001b[0mself\u001b[0m\u001b[0;34m.\u001b[0m\u001b[0moptions\u001b[0m\u001b[0;34m)\u001b[0m\u001b[0;34m\u001b[0m\u001b[0;34m\u001b[0m\u001b[0m\n\u001b[0m\u001b[1;32m   1015\u001b[0m         \u001b[0;32melse\u001b[0m\u001b[0;34m:\u001b[0m\u001b[0;34m\u001b[0m\u001b[0;34m\u001b[0m\u001b[0m\n\u001b[1;32m   1016\u001b[0m             \u001b[0;32mif\u001b[0m \u001b[0mengine\u001b[0m \u001b[0;34m==\u001b[0m \u001b[0;34m'python'\u001b[0m\u001b[0;34m:\u001b[0m\u001b[0;34m\u001b[0m\u001b[0;34m\u001b[0m\u001b[0m\n",
      "\u001b[0;32m~/.local/lib/python3.6/site-packages/pandas/io/parsers.py\u001b[0m in \u001b[0;36m__init__\u001b[0;34m(self, src, **kwds)\u001b[0m\n\u001b[1;32m   1706\u001b[0m         \u001b[0mkwds\u001b[0m\u001b[0;34m[\u001b[0m\u001b[0;34m'usecols'\u001b[0m\u001b[0;34m]\u001b[0m \u001b[0;34m=\u001b[0m \u001b[0mself\u001b[0m\u001b[0;34m.\u001b[0m\u001b[0musecols\u001b[0m\u001b[0;34m\u001b[0m\u001b[0;34m\u001b[0m\u001b[0m\n\u001b[1;32m   1707\u001b[0m \u001b[0;34m\u001b[0m\u001b[0m\n\u001b[0;32m-> 1708\u001b[0;31m         \u001b[0mself\u001b[0m\u001b[0;34m.\u001b[0m\u001b[0m_reader\u001b[0m \u001b[0;34m=\u001b[0m \u001b[0mparsers\u001b[0m\u001b[0;34m.\u001b[0m\u001b[0mTextReader\u001b[0m\u001b[0;34m(\u001b[0m\u001b[0msrc\u001b[0m\u001b[0;34m,\u001b[0m \u001b[0;34m**\u001b[0m\u001b[0mkwds\u001b[0m\u001b[0;34m)\u001b[0m\u001b[0;34m\u001b[0m\u001b[0;34m\u001b[0m\u001b[0m\n\u001b[0m\u001b[1;32m   1709\u001b[0m \u001b[0;34m\u001b[0m\u001b[0m\n\u001b[1;32m   1710\u001b[0m         \u001b[0mpassed_names\u001b[0m \u001b[0;34m=\u001b[0m \u001b[0mself\u001b[0m\u001b[0;34m.\u001b[0m\u001b[0mnames\u001b[0m \u001b[0;32mis\u001b[0m \u001b[0;32mNone\u001b[0m\u001b[0;34m\u001b[0m\u001b[0;34m\u001b[0m\u001b[0m\n",
      "\u001b[0;32mpandas/_libs/parsers.pyx\u001b[0m in \u001b[0;36mpandas._libs.parsers.TextReader.__cinit__\u001b[0;34m()\u001b[0m\n",
      "\u001b[0;32mpandas/_libs/parsers.pyx\u001b[0m in \u001b[0;36mpandas._libs.parsers.TextReader._setup_parser_source\u001b[0;34m()\u001b[0m\n",
      "\u001b[0;31mFileNotFoundError\u001b[0m: File b'iris_data.txt' does not exist"
     ]
    }
   ],
   "source": [
    "data = pd.read_csv('iris_data.txt', header = None)\n",
    "data.columns = ['prop1', 'prop2', 'prop3', 'prop4', 'type']\n",
    "type_int = {'Iris-setosa': 0, 'Iris-versicolor': 1, 'Iris-virginica': 2} \n",
    "\n",
    "\n",
    "data['type_int'] = [type_int[item] for item in data['type'].values]\n",
    "\n",
    "indices_test = random.sample(list(np.arange(data.shape[0])), round(split*data.shape[0]))\n",
    "indices_train = set(np.arange(data.shape[0])) - set(indices_test)\n",
    "\n",
    "test_data = data.loc[list(indices_test)]\n",
    "train_data = data.loc[list(indices_train)]\n",
    "train_data\n"
   ]
  },
  {
   "cell_type": "markdown",
   "metadata": {},
   "source": [
    "Next we define a generator based on this table."
   ]
  },
  {
   "cell_type": "code",
   "execution_count": 7,
   "metadata": {},
   "outputs": [],
   "source": [
    "def generator(data,classes):\n",
    "    while True:\n",
    "        indices = np.arange(data.shape[0])\n",
    "        random.shuffle(indices)\n",
    "        data = data.iloc[indices]\n",
    "        for i in np.arange(data.shape[0]):\n",
    "           input = [data['prop1'].values[i],data['prop2'].values[i],data['prop3'].values[i],data['prop4'].values[i]]\n",
    "           label =  [data['type_int'].values[i]]\n",
    "           label = np_utils.to_categorical(label,classes)\n",
    "           input = np.array([input])\n",
    "           yield([input,label])\n"
   ]
  },
  {
   "cell_type": "markdown",
   "metadata": {},
   "source": [
    "Lastly we define the model architecture"
   ]
  },
  {
   "cell_type": "code",
   "execution_count": 8,
   "metadata": {},
   "outputs": [],
   "source": [
    "input =keras.engine.Input( shape = [4], dtype = 'float32' )\n",
    "\n",
    "l0 = keras.layers.Dense(units = 8, activation = 'relu' )(input)\n",
    "l1 = keras.layers.Dense(units = 16, activation = 'relu' )(l0)\n",
    "l2 = keras.layers.Dense(units = 32, activation = 'relu' )(l1)\n",
    "l3 = keras.layers.Dense(units = 16, activation = 'relu' )(l2)\n",
    "l4 = keras.layers.Dense(units = 8, activation = 'relu' )(l3)\n",
    "output = keras.layers.Dense(units = classes, activation = 'softmax' )(l4)\n",
    "\n",
    "model = keras.models.Model(inputs = input, outputs = output)\n"
   ]
  },
  {
   "cell_type": "code",
   "execution_count": 9,
   "metadata": {},
   "outputs": [],
   "source": [
    "opt = keras.optimizers.adam( lr= lr ,  clipnorm = 0.3 )\n",
    "model.compile(loss='categorical_crossentropy', optimizer=opt, metrics = [\"accuracy\"])"
   ]
  },
  {
   "cell_type": "markdown",
   "metadata": {},
   "source": [
    "With the data generator, network architecture and loss defined we can now train the model."
   ]
  },
  {
   "cell_type": "code",
   "execution_count": 10,
   "metadata": {},
   "outputs": [
    {
     "name": "stdout",
     "output_type": "stream",
     "text": [
      "Epoch 1/10\n",
      "120/120 [==============================] - 0s 4ms/step - loss: 1.1187 - acc: 0.3333\n",
      "Epoch 2/10\n",
      "120/120 [==============================] - 0s 1ms/step - loss: 1.1162 - acc: 0.3417\n",
      "Epoch 3/10\n",
      "120/120 [==============================] - 0s 1ms/step - loss: 1.1218 - acc: 0.4417\n",
      "Epoch 4/10\n",
      "120/120 [==============================] - 0s 2ms/step - loss: 1.1117 - acc: 0.5583\n",
      "Epoch 5/10\n",
      "120/120 [==============================] - 0s 1ms/step - loss: 1.1034 - acc: 0.6167\n",
      "Epoch 6/10\n",
      "120/120 [==============================] - 0s 1ms/step - loss: 1.0990 - acc: 0.5833\n",
      "Epoch 7/10\n",
      "120/120 [==============================] - 0s 1ms/step - loss: 1.0990 - acc: 0.6167\n",
      "Epoch 8/10\n",
      "120/120 [==============================] - 0s 1ms/step - loss: 1.0898 - acc: 0.6333\n",
      "Epoch 9/10\n",
      "120/120 [==============================] - 0s 1ms/step - loss: 1.0977 - acc: 0.5167\n",
      "Epoch 10/10\n",
      "120/120 [==============================] - 0s 2ms/step - loss: 1.0806 - acc: 0.5333\n"
     ]
    },
    {
     "data": {
      "text/plain": [
       "<keras.callbacks.History at 0x7f8c5efc46a0>"
      ]
     },
     "execution_count": 10,
     "metadata": {},
     "output_type": "execute_result"
    }
   ],
   "source": [
    "model.fit_generator(generator = generator(train_data,classes), steps_per_epoch = train_data.shape[0], epochs = epochs)"
   ]
  },
  {
   "cell_type": "markdown",
   "metadata": {},
   "source": [
    "Now let's see how well we did"
   ]
  },
  {
   "cell_type": "code",
   "execution_count": 11,
   "metadata": {},
   "outputs": [
    {
     "data": {
      "text/plain": [
       "[0.9921875973542531, 0.6333333333333333]"
      ]
     },
     "execution_count": 11,
     "metadata": {},
     "output_type": "execute_result"
    }
   ],
   "source": [
    "model.evaluate_generator(generator(test_data,classes), steps = test_data.shape[0])"
   ]
  },
  {
   "cell_type": "markdown",
   "metadata": {},
   "source": [
    "## A convolutional neuralnetwork"
   ]
  },
  {
   "cell_type": "code",
   "execution_count": 6,
   "metadata": {},
   "outputs": [],
   "source": [
    "classes = 62\n",
    "epochs = 4\n",
    "w = 60\n",
    "lr = 0.0001\n",
    "split = 0.2"
   ]
  },
  {
   "cell_type": "markdown",
   "metadata": {},
   "source": [
    "First we load the data, or in this case the metadata."
   ]
  },
  {
   "cell_type": "code",
   "execution_count": 7,
   "metadata": {},
   "outputs": [
    {
     "data": {
      "text/html": [
       "<div>\n",
       "<style scoped>\n",
       "    .dataframe tbody tr th:only-of-type {\n",
       "        vertical-align: middle;\n",
       "    }\n",
       "\n",
       "    .dataframe tbody tr th {\n",
       "        vertical-align: top;\n",
       "    }\n",
       "\n",
       "    .dataframe thead th {\n",
       "        text-align: right;\n",
       "    }\n",
       "</style>\n",
       "<table border=\"1\" class=\"dataframe\">\n",
       "  <thead>\n",
       "    <tr style=\"text-align: right;\">\n",
       "      <th></th>\n",
       "      <th>label</th>\n",
       "      <th>file</th>\n",
       "    </tr>\n",
       "  </thead>\n",
       "  <tbody>\n",
       "    <tr>\n",
       "      <th>0</th>\n",
       "      <td>7</td>\n",
       "      <td>borden/00007/37.png</td>\n",
       "    </tr>\n",
       "    <tr>\n",
       "      <th>1</th>\n",
       "      <td>7</td>\n",
       "      <td>borden/00007/241.png</td>\n",
       "    </tr>\n",
       "    <tr>\n",
       "      <th>2</th>\n",
       "      <td>7</td>\n",
       "      <td>borden/00007/1.png</td>\n",
       "    </tr>\n",
       "    <tr>\n",
       "      <th>3</th>\n",
       "      <td>7</td>\n",
       "      <td>borden/00007/207.png</td>\n",
       "    </tr>\n",
       "    <tr>\n",
       "      <th>4</th>\n",
       "      <td>7</td>\n",
       "      <td>borden/00007/165.png</td>\n",
       "    </tr>\n",
       "    <tr>\n",
       "      <th>5</th>\n",
       "      <td>7</td>\n",
       "      <td>borden/00007/65.png</td>\n",
       "    </tr>\n",
       "    <tr>\n",
       "      <th>6</th>\n",
       "      <td>7</td>\n",
       "      <td>borden/00007/141.png</td>\n",
       "    </tr>\n",
       "    <tr>\n",
       "      <th>7</th>\n",
       "      <td>7</td>\n",
       "      <td>borden/00007/195.png</td>\n",
       "    </tr>\n",
       "    <tr>\n",
       "      <th>8</th>\n",
       "      <td>7</td>\n",
       "      <td>borden/00007/99.png</td>\n",
       "    </tr>\n",
       "    <tr>\n",
       "      <th>11</th>\n",
       "      <td>7</td>\n",
       "      <td>borden/00007/118.png</td>\n",
       "    </tr>\n",
       "    <tr>\n",
       "      <th>12</th>\n",
       "      <td>7</td>\n",
       "      <td>borden/00007/188.png</td>\n",
       "    </tr>\n",
       "    <tr>\n",
       "      <th>13</th>\n",
       "      <td>7</td>\n",
       "      <td>borden/00007/224.png</td>\n",
       "    </tr>\n",
       "    <tr>\n",
       "      <th>14</th>\n",
       "      <td>7</td>\n",
       "      <td>borden/00007/171.png</td>\n",
       "    </tr>\n",
       "    <tr>\n",
       "      <th>15</th>\n",
       "      <td>7</td>\n",
       "      <td>borden/00007/48.png</td>\n",
       "    </tr>\n",
       "    <tr>\n",
       "      <th>16</th>\n",
       "      <td>7</td>\n",
       "      <td>borden/00007/15.png</td>\n",
       "    </tr>\n",
       "    <tr>\n",
       "      <th>17</th>\n",
       "      <td>7</td>\n",
       "      <td>borden/00007/219.png</td>\n",
       "    </tr>\n",
       "    <tr>\n",
       "      <th>19</th>\n",
       "      <td>7</td>\n",
       "      <td>borden/00007/240.png</td>\n",
       "    </tr>\n",
       "    <tr>\n",
       "      <th>21</th>\n",
       "      <td>7</td>\n",
       "      <td>borden/00007/222.png</td>\n",
       "    </tr>\n",
       "    <tr>\n",
       "      <th>22</th>\n",
       "      <td>7</td>\n",
       "      <td>borden/00007/72.png</td>\n",
       "    </tr>\n",
       "    <tr>\n",
       "      <th>23</th>\n",
       "      <td>7</td>\n",
       "      <td>borden/00007/101.png</td>\n",
       "    </tr>\n",
       "    <tr>\n",
       "      <th>24</th>\n",
       "      <td>7</td>\n",
       "      <td>borden/00007/201.png</td>\n",
       "    </tr>\n",
       "    <tr>\n",
       "      <th>25</th>\n",
       "      <td>7</td>\n",
       "      <td>borden/00007/104.png</td>\n",
       "    </tr>\n",
       "    <tr>\n",
       "      <th>26</th>\n",
       "      <td>7</td>\n",
       "      <td>borden/00007/52.png</td>\n",
       "    </tr>\n",
       "    <tr>\n",
       "      <th>27</th>\n",
       "      <td>7</td>\n",
       "      <td>borden/00007/60.png</td>\n",
       "    </tr>\n",
       "    <tr>\n",
       "      <th>28</th>\n",
       "      <td>7</td>\n",
       "      <td>borden/00007/51.png</td>\n",
       "    </tr>\n",
       "    <tr>\n",
       "      <th>29</th>\n",
       "      <td>7</td>\n",
       "      <td>borden/00007/155.png</td>\n",
       "    </tr>\n",
       "    <tr>\n",
       "      <th>31</th>\n",
       "      <td>7</td>\n",
       "      <td>borden/00007/196.png</td>\n",
       "    </tr>\n",
       "    <tr>\n",
       "      <th>32</th>\n",
       "      <td>7</td>\n",
       "      <td>borden/00007/174.png</td>\n",
       "    </tr>\n",
       "    <tr>\n",
       "      <th>33</th>\n",
       "      <td>7</td>\n",
       "      <td>borden/00007/177.png</td>\n",
       "    </tr>\n",
       "    <tr>\n",
       "      <th>34</th>\n",
       "      <td>7</td>\n",
       "      <td>borden/00007/41.png</td>\n",
       "    </tr>\n",
       "    <tr>\n",
       "      <th>...</th>\n",
       "      <td>...</td>\n",
       "      <td>...</td>\n",
       "    </tr>\n",
       "    <tr>\n",
       "      <th>6863</th>\n",
       "      <td>18</td>\n",
       "      <td>borden/00018/95.png</td>\n",
       "    </tr>\n",
       "    <tr>\n",
       "      <th>6864</th>\n",
       "      <td>18</td>\n",
       "      <td>borden/00018/183.png</td>\n",
       "    </tr>\n",
       "    <tr>\n",
       "      <th>6865</th>\n",
       "      <td>18</td>\n",
       "      <td>borden/00018/162.png</td>\n",
       "    </tr>\n",
       "    <tr>\n",
       "      <th>6866</th>\n",
       "      <td>18</td>\n",
       "      <td>borden/00018/92.png</td>\n",
       "    </tr>\n",
       "    <tr>\n",
       "      <th>6867</th>\n",
       "      <td>18</td>\n",
       "      <td>borden/00018/42.png</td>\n",
       "    </tr>\n",
       "    <tr>\n",
       "      <th>6868</th>\n",
       "      <td>18</td>\n",
       "      <td>borden/00018/75.png</td>\n",
       "    </tr>\n",
       "    <tr>\n",
       "      <th>6869</th>\n",
       "      <td>18</td>\n",
       "      <td>borden/00018/137.png</td>\n",
       "    </tr>\n",
       "    <tr>\n",
       "      <th>6871</th>\n",
       "      <td>18</td>\n",
       "      <td>borden/00018/125.png</td>\n",
       "    </tr>\n",
       "    <tr>\n",
       "      <th>6873</th>\n",
       "      <td>18</td>\n",
       "      <td>borden/00018/82.png</td>\n",
       "    </tr>\n",
       "    <tr>\n",
       "      <th>6874</th>\n",
       "      <td>18</td>\n",
       "      <td>borden/00018/115.png</td>\n",
       "    </tr>\n",
       "    <tr>\n",
       "      <th>6875</th>\n",
       "      <td>36</td>\n",
       "      <td>borden/00036/1.png</td>\n",
       "    </tr>\n",
       "    <tr>\n",
       "      <th>6876</th>\n",
       "      <td>36</td>\n",
       "      <td>borden/00036/15.png</td>\n",
       "    </tr>\n",
       "    <tr>\n",
       "      <th>6878</th>\n",
       "      <td>36</td>\n",
       "      <td>borden/00036/18.png</td>\n",
       "    </tr>\n",
       "    <tr>\n",
       "      <th>6879</th>\n",
       "      <td>36</td>\n",
       "      <td>borden/00036/11.png</td>\n",
       "    </tr>\n",
       "    <tr>\n",
       "      <th>6880</th>\n",
       "      <td>36</td>\n",
       "      <td>borden/00036/3.png</td>\n",
       "    </tr>\n",
       "    <tr>\n",
       "      <th>6881</th>\n",
       "      <td>36</td>\n",
       "      <td>borden/00036/6.png</td>\n",
       "    </tr>\n",
       "    <tr>\n",
       "      <th>6882</th>\n",
       "      <td>36</td>\n",
       "      <td>borden/00036/17.png</td>\n",
       "    </tr>\n",
       "    <tr>\n",
       "      <th>6883</th>\n",
       "      <td>36</td>\n",
       "      <td>borden/00036/10.png</td>\n",
       "    </tr>\n",
       "    <tr>\n",
       "      <th>6884</th>\n",
       "      <td>36</td>\n",
       "      <td>borden/00036/12.png</td>\n",
       "    </tr>\n",
       "    <tr>\n",
       "      <th>6886</th>\n",
       "      <td>36</td>\n",
       "      <td>borden/00036/8.png</td>\n",
       "    </tr>\n",
       "    <tr>\n",
       "      <th>6887</th>\n",
       "      <td>36</td>\n",
       "      <td>borden/00036/7.png</td>\n",
       "    </tr>\n",
       "    <tr>\n",
       "      <th>6888</th>\n",
       "      <td>36</td>\n",
       "      <td>borden/00036/14.png</td>\n",
       "    </tr>\n",
       "    <tr>\n",
       "      <th>6890</th>\n",
       "      <td>36</td>\n",
       "      <td>borden/00036/5.png</td>\n",
       "    </tr>\n",
       "    <tr>\n",
       "      <th>6892</th>\n",
       "      <td>36</td>\n",
       "      <td>borden/00036/16.png</td>\n",
       "    </tr>\n",
       "    <tr>\n",
       "      <th>6894</th>\n",
       "      <td>15</td>\n",
       "      <td>borden/00015/9.png</td>\n",
       "    </tr>\n",
       "    <tr>\n",
       "      <th>6896</th>\n",
       "      <td>15</td>\n",
       "      <td>borden/00015/6.png</td>\n",
       "    </tr>\n",
       "    <tr>\n",
       "      <th>6897</th>\n",
       "      <td>15</td>\n",
       "      <td>borden/00015/8.png</td>\n",
       "    </tr>\n",
       "    <tr>\n",
       "      <th>6898</th>\n",
       "      <td>15</td>\n",
       "      <td>borden/00015/7.png</td>\n",
       "    </tr>\n",
       "    <tr>\n",
       "      <th>6899</th>\n",
       "      <td>15</td>\n",
       "      <td>borden/00015/2.png</td>\n",
       "    </tr>\n",
       "    <tr>\n",
       "      <th>6900</th>\n",
       "      <td>15</td>\n",
       "      <td>borden/00015/5.png</td>\n",
       "    </tr>\n",
       "  </tbody>\n",
       "</table>\n",
       "<p>5522 rows × 2 columns</p>\n",
       "</div>"
      ],
      "text/plain": [
       "     label                  file\n",
       "0        7   borden/00007/37.png\n",
       "1        7  borden/00007/241.png\n",
       "2        7    borden/00007/1.png\n",
       "3        7  borden/00007/207.png\n",
       "4        7  borden/00007/165.png\n",
       "5        7   borden/00007/65.png\n",
       "6        7  borden/00007/141.png\n",
       "7        7  borden/00007/195.png\n",
       "8        7   borden/00007/99.png\n",
       "11       7  borden/00007/118.png\n",
       "12       7  borden/00007/188.png\n",
       "13       7  borden/00007/224.png\n",
       "14       7  borden/00007/171.png\n",
       "15       7   borden/00007/48.png\n",
       "16       7   borden/00007/15.png\n",
       "17       7  borden/00007/219.png\n",
       "19       7  borden/00007/240.png\n",
       "21       7  borden/00007/222.png\n",
       "22       7   borden/00007/72.png\n",
       "23       7  borden/00007/101.png\n",
       "24       7  borden/00007/201.png\n",
       "25       7  borden/00007/104.png\n",
       "26       7   borden/00007/52.png\n",
       "27       7   borden/00007/60.png\n",
       "28       7   borden/00007/51.png\n",
       "29       7  borden/00007/155.png\n",
       "31       7  borden/00007/196.png\n",
       "32       7  borden/00007/174.png\n",
       "33       7  borden/00007/177.png\n",
       "34       7   borden/00007/41.png\n",
       "...    ...                   ...\n",
       "6863    18   borden/00018/95.png\n",
       "6864    18  borden/00018/183.png\n",
       "6865    18  borden/00018/162.png\n",
       "6866    18   borden/00018/92.png\n",
       "6867    18   borden/00018/42.png\n",
       "6868    18   borden/00018/75.png\n",
       "6869    18  borden/00018/137.png\n",
       "6871    18  borden/00018/125.png\n",
       "6873    18   borden/00018/82.png\n",
       "6874    18  borden/00018/115.png\n",
       "6875    36    borden/00036/1.png\n",
       "6876    36   borden/00036/15.png\n",
       "6878    36   borden/00036/18.png\n",
       "6879    36   borden/00036/11.png\n",
       "6880    36    borden/00036/3.png\n",
       "6881    36    borden/00036/6.png\n",
       "6882    36   borden/00036/17.png\n",
       "6883    36   borden/00036/10.png\n",
       "6884    36   borden/00036/12.png\n",
       "6886    36    borden/00036/8.png\n",
       "6887    36    borden/00036/7.png\n",
       "6888    36   borden/00036/14.png\n",
       "6890    36    borden/00036/5.png\n",
       "6892    36   borden/00036/16.png\n",
       "6894    15    borden/00015/9.png\n",
       "6896    15    borden/00015/6.png\n",
       "6897    15    borden/00015/8.png\n",
       "6898    15    borden/00015/7.png\n",
       "6899    15    borden/00015/2.png\n",
       "6900    15    borden/00015/5.png\n",
       "\n",
       "[5522 rows x 2 columns]"
      ]
     },
     "execution_count": 7,
     "metadata": {},
     "output_type": "execute_result"
    }
   ],
   "source": [
    "dirs = os.listdir('borden')\n",
    "data = pd.DataFrame(columns = ['label','file'])\n",
    "\n",
    "i = 0\n",
    "for dir in dirs:\n",
    "    files = os.listdir(os.path.join('borden',dir))\n",
    "    for file in files:\n",
    "        data.loc[i] = [int(dir), os.path.join('borden',dir, file)]\n",
    "        i = i+1\n",
    "\n",
    "indices_test = random.sample(list(np.arange(data.shape[0])), round(split*data.shape[0]))\n",
    "indices_train = set(np.arange(data.shape[0])) - set(indices_test)\n",
    "\n",
    "test_data = data.loc[list(indices_test)]\n",
    "train_data = data.loc[list(indices_train)]\n",
    "train_data\n"
   ]
  },
  {
   "cell_type": "code",
   "execution_count": 9,
   "metadata": {},
   "outputs": [],
   "source": [
    "def generator(data,classes):\n",
    "    while True:\n",
    "        indices = np.arange(data.shape[0])\n",
    "        random.shuffle(indices)\n",
    "        data = data.iloc[indices]\n",
    "        for i in np.arange(data.shape[0]):\n",
    "            try:\n",
    "               input = cv2.imread(data['file'].values[i])\n",
    "               input = cv2.resize(input, (w,w))\n",
    "               label =  [data['label'].values[i]]\n",
    "               label = np_utils.to_categorical(label,classes)\n",
    "               input = np.expand_dims(input, axis = 0)\n",
    "               yield([input,label])\n",
    "            except:\n",
    "               print(data['file'].values[i]) "
   ]
  },
  {
   "cell_type": "code",
   "execution_count": 10,
   "metadata": {},
   "outputs": [],
   "source": [
    "input =keras.engine.Input( shape = [w,w,3], dtype = 'float32' )\n",
    "\n",
    "l0 = keras.layers.convolutional.Conv2D( filters=16, kernel_size= (3,3),padding=\"same\", activation = 'relu' )(input)\n",
    "l1 = keras.layers.MaxPool2D(pool_size = (2,2))(l0)\n",
    "l2 = keras.layers.convolutional.Conv2D( filters=32, kernel_size= (3,3),padding=\"same\", activation = 'relu' )(l1)\n",
    "l3 = keras.layers.MaxPool2D(pool_size = (2,2))(l2)\n",
    "l4 = keras.layers.convolutional.Conv2D( filters=64, kernel_size= (3,3),padding=\"same\", activation = 'relu' )(l3)\n",
    "l5 = keras.layers.Flatten()(l4)\n",
    "l6 = keras.layers.Dense(units = 128, activation = 'relu' )(l5)\n",
    "l7 = keras.layers.Dense(units = 256, activation = 'relu' )(l6)\n",
    "output = keras.layers.Dense(units = classes, activation = 'softmax' )(l7)\n",
    "\n",
    "model = keras.models.Model(inputs = input, outputs = output)\n"
   ]
  },
  {
   "cell_type": "code",
   "execution_count": 11,
   "metadata": {},
   "outputs": [],
   "source": [
    "opt = keras.optimizers.adam( lr= lr ,  clipnorm = 0.3 )\n",
    "model.compile(loss='categorical_crossentropy', optimizer=opt, metrics = [\"accuracy\"])"
   ]
  },
  {
   "cell_type": "code",
   "execution_count": 12,
   "metadata": {},
   "outputs": [
    {
     "name": "stdout",
     "output_type": "stream",
     "text": [
      "Epoch 1/4\n",
      "4941/5522 [=========================>....] - ETA: 16s - loss: 14.9245 - acc: 0.0739borden/00001/._5.png\n",
      "5522/5522 [==============================] - 153s 28ms/step - loss: 14.9012 - acc: 0.0753\n",
      "Epoch 2/4\n",
      "2313/5522 [===========>..................] - ETA: 1:28 - loss: 14.9195 - acc: 0.0744borden/00001/._5.png\n",
      "5522/5522 [==============================] - 152s 28ms/step - loss: 14.9009 - acc: 0.0755\n",
      "Epoch 3/4\n",
      "2703/5522 [=============>................] - ETA: 1:20 - loss: 14.9255 - acc: 0.0740borden/00001/._5.png\n",
      "5522/5522 [==============================] - 159s 29ms/step - loss: 14.9009 - acc: 0.0755\n",
      "Epoch 4/4\n",
      "1859/5522 [=========>....................] - ETA: 1:50 - loss: 14.8436 - acc: 0.0791borden/00001/._5.png\n",
      "5522/5522 [==============================] - 159s 29ms/step - loss: 14.9009 - acc: 0.0755\n",
      "borden/00017/224.png\n"
     ]
    },
    {
     "name": "stderr",
     "output_type": "stream",
     "text": [
      "Exception ignored in: <generator object generator at 0x7f6241cd5150>\n",
      "RuntimeError: generator ignored GeneratorExit\n"
     ]
    },
    {
     "data": {
      "text/plain": [
       "<keras.callbacks.History at 0x7f6241e46400>"
      ]
     },
     "execution_count": 12,
     "metadata": {},
     "output_type": "execute_result"
    }
   ],
   "source": [
    "model.fit_generator(generator = generator(train_data,classes), steps_per_epoch = train_data.shape[0], epochs = epochs)"
   ]
  },
  {
   "cell_type": "code",
   "execution_count": 25,
   "metadata": {},
   "outputs": [
    {
     "data": {
      "text/plain": [
       "[15.791061580699424, 0.020289855072463767]"
      ]
     },
     "execution_count": 25,
     "metadata": {},
     "output_type": "execute_result"
    }
   ],
   "source": [
    "model.evaluate_generator(generator(test_data,classes), steps = test_data.shape[0])"
   ]
  },
  {
   "cell_type": "markdown",
   "metadata": {},
   "source": [
    "## A fully convolutional neuralnetwork"
   ]
  },
  {
   "cell_type": "code",
   "execution_count": 4,
   "metadata": {},
   "outputs": [],
   "source": [
    "classes = 2\n",
    "epochs = 4\n",
    "w = 512\n",
    "split = 0.2\n",
    "lr = 0.0001"
   ]
  },
  {
   "cell_type": "code",
   "execution_count": null,
   "metadata": {},
   "outputs": [],
   "source": [
    "files = os.listdir(os.path.join('clouds','labels'))\n",
    "images = [os.path.join(os.paht.join('clouds','images'), file.replace('.txt', '.jpg')) for file in files]\n",
    "labels = [os.path.join('clouds','labels',file) for file in files]\n",
    "\n",
    "data = pd.DataFrame({'image': images, 'label': labels})\n",
    "indices_test = random.sample(list(np.arange(data.shape[0])), round(split*data.shape[0]))\n",
    "indices_train = set(np.arange(data.shape[0])) - set(indices_test)\n",
    "\n",
    "test_data = data.loc[list(indices_test)]\n",
    "train_data = data.loc[list(indices_train)]\n",
    "train_data"
   ]
  },
  {
   "cell_type": "code",
   "execution_count": 18,
   "metadata": {},
   "outputs": [],
   "source": [
    "def generator(data,classes):\n",
    "    while True:\n",
    "        indices = np.arange(data.shape[0])\n",
    "        random.shuffle(indices)\n",
    "        data = data.iloc[indices]\n",
    "        for i in np.arange(data.shape[0]):\n",
    "            label = np.genfromtxt(data['label'].values[i], delimiter = ',')\n",
    "            label = label.astype(np.int32)\n",
    "            label = np_utils.to_categorical(label, classes)\n",
    "            label = np.expand_dims(label, axis = 0)\n",
    "            input = cv2.imread(data['image'].values[i])\n",
    "            input = np.expand_dims(input, axis = 0)\n",
    "            yield([input,label])\n"
   ]
  },
  {
   "cell_type": "code",
   "execution_count": 19,
   "metadata": {},
   "outputs": [],
   "source": [
    "input =keras.engine.Input( shape = [w,w,3], dtype = 'float32' )\n",
    "\n",
    "l0 = keras.layers.convolutional.Conv2D( filters=64, kernel_size= (3,3),padding=\"same\",     activation = 'relu' )(input)\n",
    "l0 = keras.layers.convolutional.Conv2D( filters=64, kernel_size= (3,3),padding=\"same\",     activation = 'relu' )(l0)\n",
    "  \n",
    "l1 = keras.layers.MaxPool2D(pool_size = (2,2))(l0)\n",
    "l1 = keras.layers.convolutional.Conv2D( filters=128, kernel_size= (3,3),padding=\"same\",     activation = 'relu' )(l1)\n",
    "l1 = keras.layers.convolutional.Conv2D( filters=128, kernel_size= (3,3),padding=\"same\",     activation = 'relu' )(l1)\n",
    "\n",
    "l2 = keras.layers.MaxPool2D(pool_size = (2,2))(l1)\n",
    "l2 = keras.layers.convolutional.Conv2D( filters=256, kernel_size= (3,3),padding=\"same\",     activation = 'relu' )(l2)\n",
    "l2 = keras.layers.convolutional.Conv2D( filters=256, kernel_size= (3,3),padding=\"same\",     activation = 'relu' )(l2)\n",
    "\n",
    "l3 = keras.layers.MaxPool2D(pool_size = (2,2))(l2)\n",
    "l3 = keras.layers.convolutional.Conv2D( filters=512, kernel_size= (3,3),padding=\"same\",     activation = 'relu' )(l3)\n",
    "l3 = keras.layers.convolutional.Conv2D( filters=512, kernel_size= (3,3),padding=\"same\",     activation = 'relu' )(l3)\n",
    "\n",
    "l4 = keras.layers.MaxPool2D(pool_size = (2,2))(l3)\n",
    "l4 = keras.layers.convolutional.Conv2D( filters=1024, kernel_size= (3,3),padding=\"same\",     activation = 'relu' )(l4)\n",
    "l4 = keras.layers.convolutional.Conv2D( filters=1024, kernel_size= (3,3),padding=\"same\",     activation = 'relu' )(l4)\n",
    "\n",
    "\n",
    "l3_up = keras.layers.convolutional.Conv2DTranspose(filters = 512 , kernel_size=(3,3) ,strides = (2, 2), padding=\"same\")(l4)\n",
    "l3_up = keras.layers.concatenate([l3,l3_up])\n",
    "l3_up = keras.layers.convolutional.Conv2D( filters=512, kernel_size= (3,3),padding=\"same\",     activation = 'relu' )(l3_up)\n",
    "l3_up = keras.layers.convolutional.Conv2D( filters=512, kernel_size= (3,3),padding=\"same\",     activation = 'relu' )(l3_up)\n",
    "\n",
    "l2_up = keras.layers.convolutional.Conv2DTranspose(filters = 256 , kernel_size=(3,3) ,strides = (2, 2), padding=\"same\")(l3_up)\n",
    "l2_up = keras.layers.concatenate([l2,l2_up])\n",
    "l2_up = keras.layers.convolutional.Conv2D( filters=256, kernel_size= (3,3),padding=\"same\",     activation = 'relu' )(l2_up)\n",
    "l2_up = keras.layers.convolutional.Conv2D( filters=256, kernel_size= (3,3),padding=\"same\",     activation = 'relu' )(l2_up)\n",
    "\n",
    "l1_up = keras.layers.convolutional.Conv2DTranspose(filters = 128 , kernel_size=(3,3) ,strides = (2, 2), padding=\"same\")(l2_up)\n",
    "l1_up = keras.layers.concatenate([l1,l1_up])\n",
    "l1_up = keras.layers.convolutional.Conv2D( filters=128, kernel_size= (3,3),padding=\"same\",     activation = 'relu' )(l1_up)\n",
    "l1_up = keras.layers.convolutional.Conv2D( filters=128, kernel_size= (3,3),padding=\"same\",     activation = 'relu' )(l1_up)\n",
    "\n",
    "l0_up = keras.layers.convolutional.Conv2DTranspose(filters = 64 , kernel_size=(3,3) ,strides = (2, 2), padding=\"same\")(l1_up)\n",
    "l0_up = keras.layers.concatenate([l0,l0_up])\n",
    "l0_up = keras.layers.convolutional.Conv2D( filters=64, kernel_size= (3,3),padding=\"same\",     activation = 'relu' )(l0_up)\n",
    "l0_up = keras.layers.convolutional.Conv2D( filters=64, kernel_size= (3,3),padding=\"same\",     activation = 'relu' )(l0_up)\n",
    "\n",
    "output = keras.layers.convolutional.Conv2D( filters=classes, kernel_size= (1,1),padding=\"same\",     activation = 'softmax' )(l0_up)\n",
    "\n",
    "model = keras.models.Model(inputs = input, outputs = output)\n"
   ]
  },
  {
   "cell_type": "code",
   "execution_count": 20,
   "metadata": {},
   "outputs": [],
   "source": [
    "opt = keras.optimizers.adam( lr= lr ,  clipnorm = 0.3 )\n",
    "model.compile(loss='categorical_crossentropy', optimizer=opt, metrics = [\"accuracy\"])"
   ]
  },
  {
   "cell_type": "code",
   "execution_count": null,
   "metadata": {},
   "outputs": [
    {
     "name": "stdout",
     "output_type": "stream",
     "text": [
      "Epoch 1/4\n",
      "  63/2422 [..............................] - ETA: 8:30:19 - loss: 2.5088 - acc: 0.4793"
     ]
    }
   ],
   "source": [
    "model.fit_generator(generator = generator(train_data,classes), steps_per_epoch = train_data.shape[0], epochs = epochs)"
   ]
  },
  {
   "cell_type": "code",
   "execution_count": null,
   "metadata": {},
   "outputs": [],
   "source": [
    "model.evaluate_generator(generator(test_data,classes), steps = test_data.shape[0])"
   ]
  },
  {
   "cell_type": "code",
   "execution_count": 12,
   "metadata": {},
   "outputs": [
    {
     "data": {
      "text/plain": [
       "(1,)"
      ]
     },
     "execution_count": 12,
     "metadata": {},
     "output_type": "execute_result"
    }
   ],
   "source": [
    "i=0\n",
    "label = np.genfromtxt(data['label'].values[i], delimiter = ',')\n",
    "label = label.astype(np.int32)\n",
    "label = np_utils.to_categorical(label, classes)\n",
    "label = np.expand_dims(label, axis = 0)\n",
    "input = cv2.imread(data['image'].values[i])\n",
    "input = np.expand_dims(input, axis = 0)\n",
    "\n",
    "input.shape"
   ]
  },
  {
   "cell_type": "code",
   "execution_count": 16,
   "metadata": {},
   "outputs": [],
   "source": [
    "input = cv2.imread(data['image'].values[i])"
   ]
  },
  {
   "cell_type": "code",
   "execution_count": 17,
   "metadata": {},
   "outputs": [
    {
     "data": {
      "text/plain": [
       "array([[[62, 59, 51],\n",
       "        [62, 59, 51],\n",
       "        [61, 58, 50],\n",
       "        ...,\n",
       "        [84, 77, 74],\n",
       "        [80, 72, 72],\n",
       "        [76, 71, 70]],\n",
       "\n",
       "       [[62, 59, 51],\n",
       "        [61, 58, 50],\n",
       "        [60, 57, 49],\n",
       "        ...,\n",
       "        [81, 74, 71],\n",
       "        [76, 71, 70],\n",
       "        [73, 69, 68]],\n",
       "\n",
       "       [[60, 57, 49],\n",
       "        [59, 56, 48],\n",
       "        [59, 56, 48],\n",
       "        ...,\n",
       "        [78, 73, 70],\n",
       "        [73, 71, 70],\n",
       "        [72, 70, 69]],\n",
       "\n",
       "       ...,\n",
       "\n",
       "       [[70, 70, 64],\n",
       "        [70, 70, 64],\n",
       "        [70, 70, 64],\n",
       "        ...,\n",
       "        [62, 62, 62],\n",
       "        [69, 64, 66],\n",
       "        [70, 65, 67]],\n",
       "\n",
       "       [[72, 72, 66],\n",
       "        [72, 72, 66],\n",
       "        [72, 72, 66],\n",
       "        ...,\n",
       "        [63, 64, 62],\n",
       "        [68, 63, 64],\n",
       "        [67, 61, 62]],\n",
       "\n",
       "       [[72, 72, 66],\n",
       "        [72, 72, 66],\n",
       "        [72, 72, 66],\n",
       "        ...,\n",
       "        [66, 67, 65],\n",
       "        [69, 64, 65],\n",
       "        [68, 62, 63]]], dtype=uint8)"
      ]
     },
     "execution_count": 17,
     "metadata": {},
     "output_type": "execute_result"
    }
   ],
   "source": [
    "input"
   ]
  },
  {
   "cell_type": "code",
   "execution_count": 15,
   "metadata": {},
   "outputs": [
    {
     "data": {
      "text/plain": [
       "'clouds/images/wms_ALL-BANDS-L1C_EPSG4326_4.498319846115741_52.36462422765935_4.573483435856793_52.41064540559247_2018-01-16T10-55-27_512X512_AtmFilter_ATMCOR_ShowLogo_False_Transparent_True_tiff_depth=32f.jpg'"
      ]
     },
     "execution_count": 15,
     "metadata": {},
     "output_type": "execute_result"
    }
   ],
   "source": [
    "data['image'].values[i]"
   ]
  },
  {
   "cell_type": "code",
   "execution_count": null,
   "metadata": {},
   "outputs": [],
   "source": []
  }
 ],
 "metadata": {
  "kernelspec": {
   "display_name": "Python 3",
   "language": "python",
   "name": "python3"
  },
  "language_info": {
   "codemirror_mode": {
    "name": "ipython",
    "version": 3
   },
   "file_extension": ".py",
   "mimetype": "text/x-python",
   "name": "python",
   "nbconvert_exporter": "python",
   "pygments_lexer": "ipython3",
   "version": "3.6.7"
  }
 },
 "nbformat": 4,
 "nbformat_minor": 2
}
